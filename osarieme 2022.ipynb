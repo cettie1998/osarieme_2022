{
 "cells": [
  {
   "cell_type": "code",
   "execution_count": 1,
   "id": "40407881",
   "metadata": {},
   "outputs": [],
   "source": [
    "cost_of_ice_bag =1.25"
   ]
  },
  {
   "cell_type": "code",
   "execution_count": 2,
   "id": "895f62ab",
   "metadata": {},
   "outputs": [],
   "source": [
    "profit_margin =0.2"
   ]
  },
  {
   "cell_type": "code",
   "execution_count": 10,
   "id": "e9f5657b",
   "metadata": {},
   "outputs": [],
   "source": [
    "number_of_bags =500"
   ]
  },
  {
   "cell_type": "code",
   "execution_count": 4,
   "id": "0172a74c",
   "metadata": {},
   "outputs": [
    {
     "data": {
      "text/plain": [
       "0.2"
      ]
     },
     "execution_count": 4,
     "metadata": {},
     "output_type": "execute_result"
    }
   ],
   "source": [
    "profit_margin"
   ]
  },
  {
   "cell_type": "code",
   "execution_count": 5,
   "id": "058767ba",
   "metadata": {},
   "outputs": [],
   "source": [
    "profit_per_bag = cost_of_ice_bag * profit_margin"
   ]
  },
  {
   "cell_type": "code",
   "execution_count": 6,
   "id": "6a083917",
   "metadata": {},
   "outputs": [
    {
     "data": {
      "text/plain": [
       "0.25"
      ]
     },
     "execution_count": 6,
     "metadata": {},
     "output_type": "execute_result"
    }
   ],
   "source": [
    "profit_per_bag "
   ]
  },
  {
   "cell_type": "code",
   "execution_count": 7,
   "id": "06ae0811",
   "metadata": {},
   "outputs": [],
   "source": [
    "total_profit = number_of_bags * profit_per_bag"
   ]
  },
  {
   "cell_type": "code",
   "execution_count": 8,
   "id": "b9ba88c2",
   "metadata": {},
   "outputs": [
    {
     "data": {
      "text/plain": [
       "125.0"
      ]
     },
     "execution_count": 8,
     "metadata": {},
     "output_type": "execute_result"
    }
   ],
   "source": [
    "total_profit"
   ]
  },
  {
   "cell_type": "code",
   "execution_count": 14,
   "id": "e4018b48",
   "metadata": {},
   "outputs": [],
   "source": [
    "net_profit = 100"
   ]
  },
  {
   "cell_type": "code",
   "execution_count": 15,
   "id": "eca36bcd",
   "metadata": {},
   "outputs": [
    {
     "name": "stdout",
     "output_type": "stream",
     "text": [
      "the grocery store makes a total profit of $ 125.0\n"
     ]
    }
   ],
   "source": [
    "print(\"the grocery store makes a total profit of $\",total_profit)"
   ]
  },
  {
   "cell_type": "code",
   "execution_count": 16,
   "id": "9381690c",
   "metadata": {},
   "outputs": [],
   "source": [
    "my_favorite_number = 1\n",
    "my_least_favorite_number = 5\n",
    "a_neutral_number = 3"
   ]
  },
  {
   "cell_type": "code",
   "execution_count": 17,
   "id": "e577c669",
   "metadata": {},
   "outputs": [
    {
     "data": {
      "text/plain": [
       "True"
      ]
     },
     "execution_count": 17,
     "metadata": {},
     "output_type": "execute_result"
    }
   ],
   "source": [
    "#equality check -True\n",
    "my_favorite_number == 1"
   ]
  },
  {
   "cell_type": "code",
   "execution_count": 18,
   "id": "41ce0d0d",
   "metadata": {},
   "outputs": [
    {
     "data": {
      "text/plain": [
       "False"
      ]
     },
     "execution_count": 18,
     "metadata": {},
     "output_type": "execute_result"
    }
   ],
   "source": [
    "#equality check - False\n",
    "my_favorite_number == my_least_favorite_number"
   ]
  },
  {
   "cell_type": "code",
   "execution_count": 19,
   "id": "e285f834",
   "metadata": {},
   "outputs": [
    {
     "data": {
      "text/plain": [
       "True"
      ]
     },
     "execution_count": 19,
     "metadata": {},
     "output_type": "execute_result"
    }
   ],
   "source": [
    "#equality check - False\n",
    "my_favorite_number != my_least_favorite_number"
   ]
  },
  {
   "cell_type": "code",
   "execution_count": null,
   "id": "d9a17d8a",
   "metadata": {},
   "outputs": [],
   "source": []
  },
  {
   "cell_type": "code",
   "execution_count": null,
   "id": "c09c3615",
   "metadata": {},
   "outputs": [],
   "source": []
  }
 ],
 "metadata": {
  "kernelspec": {
   "display_name": "Python 3",
   "language": "python",
   "name": "python3"
  },
  "language_info": {
   "codemirror_mode": {
    "name": "ipython",
    "version": 3
   },
   "file_extension": ".py",
   "mimetype": "text/x-python",
   "name": "python",
   "nbconvert_exporter": "python",
   "pygments_lexer": "ipython3",
   "version": "3.8.8"
  }
 },
 "nbformat": 4,
 "nbformat_minor": 5
}
